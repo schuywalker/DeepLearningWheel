{
 "cells": [
  {
   "cell_type": "code",
   "execution_count": 34,
   "metadata": {},
   "outputs": [],
   "source": [
    "import yahooquery\n",
    "import pandas as pd\n",
    "import numpy as np"
   ]
  },
  {
   "cell_type": "markdown",
   "metadata": {},
   "source": [
    "the problem with most LSTM based stock price prediction is"
   ]
  },
  {
   "cell_type": "code",
   "execution_count": 35,
   "metadata": {},
   "outputs": [],
   "source": [
    "# get previous quarters open and close prices\n",
    "# never use same data twice\n",
    "# always use data from before more than 1 month ago\n",
    "# 3 months for a sample, predict 1 month. This gives us 4 samples per ticker per year.\n",
    "# easiest additional feature to add right now is volume. 200 day MA or 200 week MA could be interesting features later.\n",
    "# features must be unique to each sample (using macro data like inflation would cause model to overfit to one specific instance in history, since the data will be the same for each ticker)\n",
    "# yahooquery priceHistory is sorted by date already, but add tests for this later"
   ]
  },
  {
   "cell_type": "code",
   "execution_count": 36,
   "metadata": {},
   "outputs": [],
   "source": [
    "tickers = ['SPY', 'AAPL', 'SNAP', 'TSLA']\n",
    "dfs = []\n",
    "for ticker in tickers:\n",
    "    priceHistory = yahooquery.Ticker(ticker, asnychronous=True)\n",
    "    df = priceHistory.history(period='max', interval='1d')\n",
    "    df = df.dropna()\n",
    "    for col in ['date','high', 'low','adjclose','dividends', 'splits']:\n",
    "        if col in df.columns:\n",
    "            df.drop(col, axis=1, inplace=True)\n",
    "    dfs.append(df)\n",
    "\n",
    "    # TODO: if splits, separate into 2 different dfs. no samples should overlap a split."
   ]
  },
  {
   "cell_type": "code",
   "execution_count": 37,
   "metadata": {},
   "outputs": [
    {
     "name": "stdout",
     "output_type": "stream",
     "text": [
      "582\n"
     ]
    }
   ],
   "source": [
    "samples = []\n",
    "for df in dfs:\n",
    "    for i in range(df['close'].count()//40): # 30 market days training, 10 market days testing\n",
    "        samples.append(df.iloc[i*30:(i+1)*30])\n",
    "\n",
    "print(len(samples))"
   ]
  },
  {
   "cell_type": "code",
   "execution_count": 38,
   "metadata": {},
   "outputs": [
    {
     "name": "stdout",
     "output_type": "stream",
     "text": [
      "                       open     close   volume\n",
      "symbol date                                   \n",
      "SPY    1993-01-29  43.96875  43.93750  1003200\n",
      "       1993-02-01  43.96875  44.25000   480500\n",
      "       1993-02-02  44.21875  44.34375   201300\n",
      "       1993-02-03  44.40625  44.81250   529400\n",
      "       1993-02-04  44.96875  45.00000   531500\n",
      "                       open     close     volume\n",
      "symbol date                                     \n",
      "AAPL   1980-12-12  0.128348  0.128348  469033600\n",
      "       1980-12-15  0.122210  0.121652  175884800\n",
      "       1980-12-16  0.113281  0.112723  105728000\n",
      "       1980-12-17  0.115513  0.115513   86441600\n",
      "       1980-12-18  0.118862  0.118862   73449600\n"
     ]
    }
   ],
   "source": [
    "# samplesTemp = [df.to_numpy() for df in samples]"
   ]
  },
  {
   "cell_type": "code",
   "execution_count": 48,
   "metadata": {},
   "outputs": [
    {
     "name": "stdout",
     "output_type": "stream",
     "text": [
      "[4.3969e+01 4.3938e+01 1.0032e+06]\n",
      "[4.3969e+01 4.3938e+01 1.0032e+06]\n"
     ]
    }
   ],
   "source": [
    "\n",
    "samplesTemp = [np.around(df.values, 3).astype(np.float32) for df in samples] # convert to ndarrays, reduce float64 for computation costs.\n",
    "# float16 works for every stock except BRKA, but volume needs float32. test later to see if we can get away with mixed floats in matrix ops\n",
    "\n",
    "\n",
    "\n",
    "print(samplesTemp[0][0])\n",
    "\n",
    "\n",
    "X = np.vstack([arr[:30] for arr in samplesTemp]) # vstack concatenates along first axis, turning (N,) into (1,N)\n",
    "Y = np.vstack([arr[30:] for arr in samplesTemp])\n",
    "\n",
    "print(X[0])"
   ]
  },
  {
   "cell_type": "code",
   "execution_count": null,
   "metadata": {},
   "outputs": [],
   "source": []
  }
 ],
 "metadata": {
  "kernelspec": {
   "display_name": "Python 3",
   "language": "python",
   "name": "python3"
  },
  "language_info": {
   "codemirror_mode": {
    "name": "ipython",
    "version": 3
   },
   "file_extension": ".py",
   "mimetype": "text/x-python",
   "name": "python",
   "nbconvert_exporter": "python",
   "pygments_lexer": "ipython3",
   "version": "3.11.4"
  },
  "orig_nbformat": 4
 },
 "nbformat": 4,
 "nbformat_minor": 2
}
