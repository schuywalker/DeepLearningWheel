{
 "cells": [
  {
   "cell_type": "code",
   "execution_count": 12,
   "metadata": {},
   "outputs": [],
   "source": [
    "import pandas as pd\n",
    "from OptionPlayTranslator import *"
   ]
  },
  {
   "cell_type": "code",
   "execution_count": 11,
   "metadata": {},
   "outputs": [
    {
     "name": "stderr",
     "output_type": "stream",
     "text": [
      "/var/folders/p_/r9zh86p106b8yh2ly8zzjbw00000gn/T/ipykernel_47015/1140360584.py:2: DtypeWarning: Columns (4,5,6,8,9,10) have mixed types. Specify dtype option on import or set low_memory=False.\n",
      "  srcDataFrame = pd.read_csv('tslaReduced.csv')\n"
     ]
    }
   ],
   "source": [
    "\n",
    "# srcDataFrame = pd.read_csv('optionsDX/aapl_2022/aapl_eod_2022q4-86egbl/aapl_eod_202210.txt')\n",
    "srcDataFrame = pd.read_csv('tslaReduced.csv')\n",
    "\n",
    "# print(srcDataFrame.columns)\n",
    "df = pd.DataFrame(srcDataFrame)\n",
    "df.columns = df.columns.str.strip()\n",
    "# print(df.columns)\n",
    "\n",
    "\n"
   ]
  },
  {
   "cell_type": "code",
   "execution_count": null,
   "metadata": {},
   "outputs": [],
   "source": [
    "quote_date = df.loc[df['[QUOTE_DATE]'] == '2022-10-03']\n",
    "\n",
    "# print(quote_date.head())\n",
    "\n",
    "quote_date.to_dict('records')\n",
    "print(quote_date)\n"
   ]
  },
  {
   "cell_type": "code",
   "execution_count": null,
   "metadata": {},
   "outputs": [],
   "source": [
    "pred_chain = quote_date.loc[quote_date['[EXPIRE_DATE]'] == '2022-10-14']\n",
    "pred_chain.head(10)"
   ]
  },
  {
   "cell_type": "code",
   "execution_count": 14,
   "metadata": {},
   "outputs": [],
   "source": [
    "df['[QUOTE_DATE]'] = df.get('[QUOTE_DATE]').str.strip()\n",
    "# df['[QUOTE_DATE]']"
   ]
  },
  {
   "cell_type": "code",
   "execution_count": 17,
   "metadata": {},
   "outputs": [],
   "source": [
    "dayGroups = df.groupby('[QUOTE_DATE]')\n",
    "# print(dayGroups.groups.keys())\n",
    "# print(dayGroups.get_group('2022-10-03'))\n",
    "\n",
    "\n"
   ]
  },
  {
   "cell_type": "code",
   "execution_count": null,
   "metadata": {},
   "outputs": [],
   "source": [
    "print(type( dayGroups))"
   ]
  },
  {
   "attachments": {},
   "cell_type": "markdown",
   "metadata": {},
   "source": []
  },
  {
   "cell_type": "code",
   "execution_count": 19,
   "metadata": {},
   "outputs": [
    {
     "name": "stdout",
     "output_type": "stream",
     "text": [
      "\n",
      " COLUMNS!! \n",
      " Index(['[QUOTE_DATE]', '[UNDERLYING_LAST]', '[EXPIRE_DATE]', '[DTE]',\n",
      "       '[C_LAST]', '[C_BID]', '[C_ASK]', '[STRIKE]', '[P_BID]', '[P_ASK]',\n",
      "       '[P_LAST]'],\n",
      "      dtype='object')\n",
      "ret  2022-10-21\n",
      "nearest_expiry  2022-10-21\n",
      "Empty DataFrame\n",
      "Columns: [[QUOTE_DATE], [UNDERLYING_LAST], [EXPIRE_DATE], [DTE], [C_LAST], [C_BID], [C_ASK], [STRIKE], [P_BID], [P_ASK], [P_LAST]]\n",
      "Index: []\n"
     ]
    }
   ],
   "source": [
    "OPT = OptionPlayTranslator('AAPL', dayGroups)\n",
    "OPT.findPlays('2022-10-03', '2022-10-15')\n"
   ]
  },
  {
   "cell_type": "code",
   "execution_count": 9,
   "metadata": {},
   "outputs": [],
   "source": [
    "import datetime\n",
    "from datetime import date, timedelta\n",
    "import numpy as np"
   ]
  },
  {
   "attachments": {},
   "cell_type": "markdown",
   "metadata": {},
   "source": [
    "Not true anymore -->\n",
    "\n",
    "Given a price prediction on a current day, you look at an option chain seeking the most efficient way to express the prediction.\n",
    "\n",
    "Given that the prediction comes from a black box, we want to look for contracts expiring as close to the prediction date as possible. The prediction doesn't say anything about what happens between the dates.\n",
    "\n",
    "Contracts all expire on Fridays\n",
    "\n",
    "For now, we'll examine only the contracts closest to the prediction date that expire before the contract expires. The exception is a prediction for the same week, we'll increment to Friday of that week, since those are the closest vehicles for expressing the prediction.\n",
    "\n",
    "However, the option-play-translations for all predictions for a closing price on a day other than Friday will suffer, potentially greatly, from the mismatch of the dates (with Thursday suffering the most).\n",
    "\n",
    "Instead of limiting functionality, I propose that we just evaluate predictions for any market day other than the Friday separately.\n",
    "\n",
    "We could also round Wednesday/ Thursday up and Monday/ Tuesday down, but the validity will be suspect regardless."
   ]
  },
  {
   "cell_type": "code",
   "execution_count": 10,
   "metadata": {},
   "outputs": [
    {
     "name": "stdout",
     "output_type": "stream",
     "text": [
      "cur is 2023-05-30 , cur weekday 1\n",
      "fut is  2023-06-09 , weekday  4\n"
     ]
    }
   ],
   "source": [
    "curDate = np.array('2023-05-30'.strip().split('-'), dtype=int)\n",
    "futDate = np.array('2023-06-10'.strip().split('-'), dtype=int)\n",
    "cur = date(*curDate)\n",
    "fut = date(*futDate)\n",
    "\n",
    "# date.weekday() moday = 0, sunday = 6, friday = 4\n",
    "print('cur is', cur, ', cur weekday', cur.weekday())\n",
    "if ((fut - cur).days < 5 ):\n",
    "    # same week, increment to friday\n",
    "    while  fut.weekday() != 4:\n",
    "        fut += timedelta(1)\n",
    "else:\n",
    "    # get first friday before predicted date\n",
    "    while fut.weekday() != 4:\n",
    "        fut -= timedelta(1)\n",
    "print('fut is ', fut, ', weekday ', fut.weekday())\n",
    "assert(fut > cur)\n",
    "\n"
   ]
  }
 ],
 "metadata": {
  "kernelspec": {
   "display_name": "Python 3",
   "language": "python",
   "name": "python3"
  },
  "language_info": {
   "codemirror_mode": {
    "name": "ipython",
    "version": 3
   },
   "file_extension": ".py",
   "mimetype": "text/x-python",
   "name": "python",
   "nbconvert_exporter": "python",
   "pygments_lexer": "ipython3",
   "version": "3.8.6rc1"
  },
  "orig_nbformat": 4
 },
 "nbformat": 4,
 "nbformat_minor": 2
}
