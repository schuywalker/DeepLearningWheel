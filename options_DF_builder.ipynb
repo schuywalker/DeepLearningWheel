{
 "cells": [
  {
   "cell_type": "code",
   "execution_count": 1,
   "metadata": {},
   "outputs": [],
   "source": [
    "import pandas as pd\n",
    "from OptionPlayTranslator import *"
   ]
  },
  {
   "cell_type": "code",
   "execution_count": 2,
   "metadata": {},
   "outputs": [],
   "source": [
    "\n",
    "srcDataFrame = pd.read_csv('optionsDX/aapl_2022/aapl_eod_2022q4-86egbl/aapl_eod_202210.txt')\n",
    "# print(srcDataFrame.columns)\n",
    "df = pd.DataFrame(srcDataFrame)\n",
    "df.columns = df.columns.str.strip()\n",
    "# print(df.columns)\n",
    "\n",
    "\n"
   ]
  },
  {
   "cell_type": "code",
   "execution_count": 18,
   "metadata": {},
   "outputs": [
    {
     "name": "stdout",
     "output_type": "stream",
     "text": [
      "     [QUOTE_UNIXTIME]   [QUOTE_READTIME] [QUOTE_DATE]  [QUOTE_TIME_HOURS]  \\\n",
      "0          1664827200   2022-10-03 16:00   2022-10-03                16.0   \n",
      "1          1664827200   2022-10-03 16:00   2022-10-03                16.0   \n",
      "2          1664827200   2022-10-03 16:00   2022-10-03                16.0   \n",
      "3          1664827200   2022-10-03 16:00   2022-10-03                16.0   \n",
      "4          1664827200   2022-10-03 16:00   2022-10-03                16.0   \n",
      "..                ...                ...          ...                 ...   \n",
      "880        1664827200   2022-10-03 16:00   2022-10-03                16.0   \n",
      "881        1664827200   2022-10-03 16:00   2022-10-03                16.0   \n",
      "882        1664827200   2022-10-03 16:00   2022-10-03                16.0   \n",
      "883        1664827200   2022-10-03 16:00   2022-10-03                16.0   \n",
      "884        1664827200   2022-10-03 16:00   2022-10-03                16.0   \n",
      "\n",
      "     [UNDERLYING_LAST] [EXPIRE_DATE]  [EXPIRE_UNIX]   [DTE]  [C_DELTA]  \\\n",
      "0               142.57    2022-10-07     1665172800    4.00    1.00000   \n",
      "1               142.57    2022-10-07     1665172800    4.00    1.00000   \n",
      "2               142.57    2022-10-07     1665172800    4.00    1.00000   \n",
      "3               142.57    2022-10-07     1665172800    4.00    1.00000   \n",
      "4               142.57    2022-10-07     1665172800    4.00    1.00000   \n",
      "..                 ...           ...            ...     ...        ...   \n",
      "880             142.57    2025-01-17     1737147600  837.04    0.15144   \n",
      "881             142.57    2025-01-17     1737147600  837.04    0.13197   \n",
      "882             142.57    2025-01-17     1737147600  837.04    0.11460   \n",
      "883             142.57    2025-01-17     1737147600  837.04    0.10174   \n",
      "884             142.57    2025-01-17     1737147600  837.04    0.08937   \n",
      "\n",
      "     [C_GAMMA]  ...  [P_LAST]  [P_DELTA]  [P_GAMMA] [P_VEGA] [P_THETA]  \\\n",
      "0      0.00000  ...      0.00   -0.00084    0.00003  0.00060  -0.00391   \n",
      "1      0.00000  ...      0.00   -0.00015    0.00008  0.00016  -0.00408   \n",
      "2      0.00000  ...      0.01   -0.00117    0.00017  0.00072  -0.00824   \n",
      "3      0.00000  ...      0.01   -0.00130    0.00021  0.00104  -0.00770   \n",
      "4      0.00000  ...      0.01   -0.00156    0.00021  0.00111  -0.00779   \n",
      "..         ...  ...       ...        ...        ...      ...       ...   \n",
      "880    0.00377  ...    112.20   -0.84677    0.00586  0.33052  -0.00385   \n",
      "881    0.00346  ...    122.00   -0.83590    0.00539  0.34098  -0.00525   \n",
      "882    0.00315  ...    132.24   -0.82094    0.00501  0.36094  -0.00527   \n",
      "883    0.00283  ...    149.28   -0.80540    0.00467  0.37976  -0.00637   \n",
      "884    0.00258  ...    162.20   -0.79113    0.00435  0.39584  -0.00707   \n",
      "\n",
      "     [P_RHO]     [P_IV]  [P_VOLUME]  [STRIKE_DISTANCE]  [STRIKE_DISTANCE_PCT]  \n",
      "0    0.00000   1.986150                           72.6                  0.509  \n",
      "1   -0.00017   1.803720                           67.6                  0.474  \n",
      "2    0.00000   1.733340    0.000000               62.6                  0.439  \n",
      "3    0.00000   1.561090    0.000000               57.6                  0.404  \n",
      "4    0.00000   1.404710    0.000000               52.6                  0.369  \n",
      "..       ...        ...         ...                ...                    ...  \n",
      "880 -0.77540   0.426330    0.000000              127.4                  0.894  \n",
      "881 -0.81541   0.447970    0.000000              137.4                  0.964  \n",
      "882 -0.88159   0.472650    0.000000              147.4                  1.034  \n",
      "883 -0.94498   0.496860    0.000000              157.4                  1.104  \n",
      "884 -1.00162   0.520380    0.000000              167.4                  1.174  \n",
      "\n",
      "[885 rows x 33 columns]\n"
     ]
    }
   ],
   "source": [
    "quote_date = df.loc[df['[QUOTE_DATE]'] == '2022-10-03']\n",
    "\n",
    "# print(quote_date.head())\n",
    "\n",
    "quote_date.to_dict('records')\n",
    "print(quote_date)\n"
   ]
  },
  {
   "cell_type": "code",
   "execution_count": 16,
   "metadata": {},
   "outputs": [
    {
     "data": {
      "text/html": [
       "<div>\n",
       "<style scoped>\n",
       "    .dataframe tbody tr th:only-of-type {\n",
       "        vertical-align: middle;\n",
       "    }\n",
       "\n",
       "    .dataframe tbody tr th {\n",
       "        vertical-align: top;\n",
       "    }\n",
       "\n",
       "    .dataframe thead th {\n",
       "        text-align: right;\n",
       "    }\n",
       "</style>\n",
       "<table border=\"1\" class=\"dataframe\">\n",
       "  <thead>\n",
       "    <tr style=\"text-align: right;\">\n",
       "      <th></th>\n",
       "      <th>[QUOTE_UNIXTIME]</th>\n",
       "      <th>[QUOTE_READTIME]</th>\n",
       "      <th>[QUOTE_DATE]</th>\n",
       "      <th>[QUOTE_TIME_HOURS]</th>\n",
       "      <th>[UNDERLYING_LAST]</th>\n",
       "      <th>[EXPIRE_DATE]</th>\n",
       "      <th>[EXPIRE_UNIX]</th>\n",
       "      <th>[DTE]</th>\n",
       "      <th>[C_DELTA]</th>\n",
       "      <th>[C_GAMMA]</th>\n",
       "      <th>...</th>\n",
       "      <th>[P_LAST]</th>\n",
       "      <th>[P_DELTA]</th>\n",
       "      <th>[P_GAMMA]</th>\n",
       "      <th>[P_VEGA]</th>\n",
       "      <th>[P_THETA]</th>\n",
       "      <th>[P_RHO]</th>\n",
       "      <th>[P_IV]</th>\n",
       "      <th>[P_VOLUME]</th>\n",
       "      <th>[STRIKE_DISTANCE]</th>\n",
       "      <th>[STRIKE_DISTANCE_PCT]</th>\n",
       "    </tr>\n",
       "  </thead>\n",
       "  <tbody>\n",
       "  </tbody>\n",
       "</table>\n",
       "<p>0 rows × 33 columns</p>\n",
       "</div>"
      ],
      "text/plain": [
       "Empty DataFrame\n",
       "Columns: [[QUOTE_UNIXTIME], [QUOTE_READTIME], [QUOTE_DATE], [QUOTE_TIME_HOURS], [UNDERLYING_LAST], [EXPIRE_DATE], [EXPIRE_UNIX], [DTE], [C_DELTA], [C_GAMMA], [C_VEGA], [C_THETA], [C_RHO], [C_IV], [C_VOLUME], [C_LAST], [C_SIZE], [C_BID], [C_ASK], [STRIKE], [P_BID], [P_ASK], [P_SIZE], [P_LAST], [P_DELTA], [P_GAMMA], [P_VEGA], [P_THETA], [P_RHO], [P_IV], [P_VOLUME], [STRIKE_DISTANCE], [STRIKE_DISTANCE_PCT]]\n",
       "Index: []\n",
       "\n",
       "[0 rows x 33 columns]"
      ]
     },
     "execution_count": 16,
     "metadata": {},
     "output_type": "execute_result"
    }
   ],
   "source": [
    "pred_chain = quote_date.loc[quote_date['[EXPIRE_DATE]'] == '2022-10-14']\n",
    "pred_chain.head(10)"
   ]
  },
  {
   "cell_type": "code",
   "execution_count": 3,
   "metadata": {},
   "outputs": [],
   "source": [
    "df['[QUOTE_DATE]'] = df.get('[QUOTE_DATE]').str.strip()\n",
    "# df['[QUOTE_DATE]']"
   ]
  },
  {
   "cell_type": "code",
   "execution_count": 4,
   "metadata": {},
   "outputs": [],
   "source": [
    "dayGroups = df.groupby('[QUOTE_DATE]')\n",
    "# print(dayGroups.groups.keys())\n",
    "# print(dayGroups.get_group('2022-10-03'))\n",
    "\n",
    "\n"
   ]
  },
  {
   "cell_type": "code",
   "execution_count": 5,
   "metadata": {},
   "outputs": [
    {
     "name": "stdout",
     "output_type": "stream",
     "text": [
      "<class 'pandas.core.groupby.generic.DataFrameGroupBy'>\n"
     ]
    }
   ],
   "source": [
    "print(type( dayGroups))"
   ]
  },
  {
   "attachments": {},
   "cell_type": "markdown",
   "metadata": {},
   "source": []
  },
  {
   "cell_type": "code",
   "execution_count": 6,
   "metadata": {},
   "outputs": [
    {
     "name": "stdout",
     "output_type": "stream",
     "text": [
      "\n",
      " COLUMNS!! \n",
      " Index(['[QUOTE_UNIXTIME]', '[QUOTE_READTIME]', '[QUOTE_DATE]',\n",
      "       '[QUOTE_TIME_HOURS]', '[UNDERLYING_LAST]', '[EXPIRE_DATE]',\n",
      "       '[EXPIRE_UNIX]', '[DTE]', '[C_DELTA]', '[C_GAMMA]', '[C_VEGA]',\n",
      "       '[C_THETA]', '[C_RHO]', '[C_IV]', '[C_VOLUME]', '[C_LAST]', '[C_SIZE]',\n",
      "       '[C_BID]', '[C_ASK]', '[STRIKE]', '[P_BID]', '[P_ASK]', '[P_SIZE]',\n",
      "       '[P_LAST]', '[P_DELTA]', '[P_GAMMA]', '[P_VEGA]', '[P_THETA]',\n",
      "       '[P_RHO]', '[P_IV]', '[P_VOLUME]', '[STRIKE_DISTANCE]',\n",
      "       '[STRIKE_DISTANCE_PCT]'],\n",
      "      dtype='object')\n",
      "nearest_expiry  2022-10-14\n",
      "Empty DataFrame\n",
      "Columns: [[QUOTE_UNIXTIME], [QUOTE_READTIME], [QUOTE_DATE], [QUOTE_TIME_HOURS], [UNDERLYING_LAST], [EXPIRE_DATE], [EXPIRE_UNIX], [DTE], [C_DELTA], [C_GAMMA], [C_VEGA], [C_THETA], [C_RHO], [C_IV], [C_VOLUME], [C_LAST], [C_SIZE], [C_BID], [C_ASK], [STRIKE], [P_BID], [P_ASK], [P_SIZE], [P_LAST], [P_DELTA], [P_GAMMA], [P_VEGA], [P_THETA], [P_RHO], [P_IV], [P_VOLUME], [STRIKE_DISTANCE], [STRIKE_DISTANCE_PCT]]\n",
      "Index: []\n",
      "\n",
      "[0 rows x 33 columns]\n"
     ]
    }
   ],
   "source": [
    "OPT = OptionPlayTranslator('AAPL', dayGroups)\n",
    "OPT.findPlays('2022-10-03', '2022-10-15')\n"
   ]
  },
  {
   "cell_type": "code",
   "execution_count": 7,
   "metadata": {},
   "outputs": [],
   "source": [
    "import datetime\n",
    "from datetime import date, timedelta\n",
    "import numpy as np"
   ]
  },
  {
   "attachments": {},
   "cell_type": "markdown",
   "metadata": {},
   "source": [
    "Given a price prediction on a current day, you look at an option chain seeking the most efficient way to express the prediction.\n",
    "\n",
    "Given that the prediction comes from a black box, we want to look for contracts expiring as close to the prediction date as possible. The prediction doesn't say anything about what happens between the dates.\n",
    "\n",
    "Contracts all expire on Fridays\n",
    "\n",
    "For now, we'll examine only the contracts closest to the prediction date that expire before the contract expires. The exception is a prediction for the same week, we'll increment to Friday of that week, since those are the closest vehicles for expressing the prediction.\n",
    "\n",
    "However, the option-play-translations for all predictions for a closing price on a day other than Friday will suffer, potentially greatly, from the mismatch of the dates (with Thursday suffering the most).\n",
    "\n",
    "Instead of limiting functionality, I propose that we just evaluate predictions for any market day other than the Friday separately.\n",
    "\n",
    "We could also round Wednesday/ Thursday up and Monday/ Tuesday down, but the validity will be suspect regardless."
   ]
  },
  {
   "cell_type": "code",
   "execution_count": 8,
   "metadata": {},
   "outputs": [
    {
     "name": "stdout",
     "output_type": "stream",
     "text": [
      "cur is 2023-05-30 , cur weekday 1\n",
      "fut is  2023-06-09 , weekday  4\n"
     ]
    }
   ],
   "source": [
    "curDate = np.array('2023-05-30'.strip().split('-'), dtype=int)\n",
    "futDate = np.array('2023-06-10'.strip().split('-'), dtype=int)\n",
    "cur = date(*curDate)\n",
    "fut = date(*futDate)\n",
    "\n",
    "# date.weekday() moday = 0, sunday = 6, friday = 4\n",
    "print('cur is', cur, ', cur weekday', cur.weekday())\n",
    "if ((fut - cur).days < 5 ):\n",
    "    # same week, increment to friday\n",
    "    while  fut.weekday() != 4:\n",
    "        fut += timedelta(1)\n",
    "else:\n",
    "    # get first friday before predicted date\n",
    "    while fut.weekday() != 4:\n",
    "        fut -= timedelta(1)\n",
    "print('fut is ', fut, ', weekday ', fut.weekday())\n",
    "assert(fut > cur)\n",
    "\n"
   ]
  }
 ],
 "metadata": {
  "kernelspec": {
   "display_name": "Python 3",
   "language": "python",
   "name": "python3"
  },
  "language_info": {
   "codemirror_mode": {
    "name": "ipython",
    "version": 3
   },
   "file_extension": ".py",
   "mimetype": "text/x-python",
   "name": "python",
   "nbconvert_exporter": "python",
   "pygments_lexer": "ipython3",
   "version": "3.8.6rc1"
  },
  "orig_nbformat": 4
 },
 "nbformat": 4,
 "nbformat_minor": 2
}
