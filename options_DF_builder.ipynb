{
 "cells": [
  {
   "cell_type": "code",
   "execution_count": 1,
   "metadata": {},
   "outputs": [],
   "source": [
    "import pandas as pd"
   ]
  },
  {
   "cell_type": "code",
   "execution_count": 16,
   "metadata": {},
   "outputs": [
    {
     "name": "stdout",
     "output_type": "stream",
     "text": [
      "Index(['[QUOTE_UNIXTIME]', ' [QUOTE_READTIME]', ' [QUOTE_DATE]',\n",
      "       ' [QUOTE_TIME_HOURS]', ' [UNDERLYING_LAST]', ' [EXPIRE_DATE]',\n",
      "       ' [EXPIRE_UNIX]', ' [DTE]', ' [C_DELTA]', ' [C_GAMMA]', ' [C_VEGA]',\n",
      "       ' [C_THETA]', ' [C_RHO]', ' [C_IV]', ' [C_VOLUME]', ' [C_LAST]',\n",
      "       ' [C_SIZE]', ' [C_BID]', ' [C_ASK]', ' [STRIKE]', ' [P_BID]',\n",
      "       ' [P_ASK]', ' [P_SIZE]', ' [P_LAST]', ' [P_DELTA]', ' [P_GAMMA]',\n",
      "       ' [P_VEGA]', ' [P_THETA]', ' [P_RHO]', ' [P_IV]', ' [P_VOLUME]',\n",
      "       ' [STRIKE_DISTANCE]', ' [STRIKE_DISTANCE_PCT]'],\n",
      "      dtype='object')\n",
      "Index(['[QUOTE_UNIXTIME]', '[QUOTE_READTIME]', '[QUOTE_DATE]',\n",
      "       '[QUOTE_TIME_HOURS]', '[UNDERLYING_LAST]', '[EXPIRE_DATE]',\n",
      "       '[EXPIRE_UNIX]', '[DTE]', '[C_DELTA]', '[C_GAMMA]', '[C_VEGA]',\n",
      "       '[C_THETA]', '[C_RHO]', '[C_IV]', '[C_VOLUME]', '[C_LAST]', '[C_SIZE]',\n",
      "       '[C_BID]', '[C_ASK]', '[STRIKE]', '[P_BID]', '[P_ASK]', '[P_SIZE]',\n",
      "       '[P_LAST]', '[P_DELTA]', '[P_GAMMA]', '[P_VEGA]', '[P_THETA]',\n",
      "       '[P_RHO]', '[P_IV]', '[P_VOLUME]', '[STRIKE_DISTANCE]',\n",
      "       '[STRIKE_DISTANCE_PCT]'],\n",
      "      dtype='object')\n"
     ]
    }
   ],
   "source": [
    "\n",
    "srcDataFrame = pd.read_csv('optionsDX/aapl_2022/aapl_eod_2022q4-86egbl/aapl_eod_202210.txt')\n",
    "print(srcDataFrame.columns)\n",
    "df = pd.DataFrame(srcDataFrame)\n",
    "df.columns = df.columns.str.strip()\n",
    "print(df.columns)\n",
    "\n",
    "\n"
   ]
  },
  {
   "cell_type": "code",
   "execution_count": 21,
   "metadata": {},
   "outputs": [
    {
     "data": {
      "text/plain": [
       "0        2022-10-03\n",
       "1        2022-10-03\n",
       "2        2022-10-03\n",
       "3        2022-10-03\n",
       "4        2022-10-03\n",
       "            ...    \n",
       "20014    2022-10-31\n",
       "20015    2022-10-31\n",
       "20016    2022-10-31\n",
       "20017    2022-10-31\n",
       "20018    2022-10-31\n",
       "Name: [QUOTE_DATE], Length: 20019, dtype: object"
      ]
     },
     "execution_count": 21,
     "metadata": {},
     "output_type": "execute_result"
    }
   ],
   "source": [
    "df['[QUOTE_DATE]'] = df.get('[QUOTE_DATE]').str.strip()\n",
    "df['[QUOTE_DATE]']"
   ]
  },
  {
   "cell_type": "code",
   "execution_count": 22,
   "metadata": {},
   "outputs": [
    {
     "name": "stdout",
     "output_type": "stream",
     "text": [
      "dict_keys(['2022-10-03', '2022-10-04', '2022-10-05', '2022-10-06', '2022-10-07', '2022-10-10', '2022-10-11', '2022-10-12', '2022-10-13', '2022-10-14', '2022-10-17', '2022-10-18', '2022-10-19', '2022-10-20', '2022-10-21', '2022-10-24', '2022-10-25', '2022-10-26', '2022-10-27', '2022-10-28', '2022-10-31'])\n",
      "     [QUOTE_UNIXTIME]   [QUOTE_READTIME] [QUOTE_DATE]  [QUOTE_TIME_HOURS]  \\\n",
      "0          1664827200   2022-10-03 16:00   2022-10-03                16.0   \n",
      "1          1664827200   2022-10-03 16:00   2022-10-03                16.0   \n",
      "2          1664827200   2022-10-03 16:00   2022-10-03                16.0   \n",
      "3          1664827200   2022-10-03 16:00   2022-10-03                16.0   \n",
      "4          1664827200   2022-10-03 16:00   2022-10-03                16.0   \n",
      "..                ...                ...          ...                 ...   \n",
      "880        1664827200   2022-10-03 16:00   2022-10-03                16.0   \n",
      "881        1664827200   2022-10-03 16:00   2022-10-03                16.0   \n",
      "882        1664827200   2022-10-03 16:00   2022-10-03                16.0   \n",
      "883        1664827200   2022-10-03 16:00   2022-10-03                16.0   \n",
      "884        1664827200   2022-10-03 16:00   2022-10-03                16.0   \n",
      "\n",
      "     [UNDERLYING_LAST] [EXPIRE_DATE]  [EXPIRE_UNIX]   [DTE]  [C_DELTA]  \\\n",
      "0               142.57    2022-10-07     1665172800    4.00    1.00000   \n",
      "1               142.57    2022-10-07     1665172800    4.00    1.00000   \n",
      "2               142.57    2022-10-07     1665172800    4.00    1.00000   \n",
      "3               142.57    2022-10-07     1665172800    4.00    1.00000   \n",
      "4               142.57    2022-10-07     1665172800    4.00    1.00000   \n",
      "..                 ...           ...            ...     ...        ...   \n",
      "880             142.57    2025-01-17     1737147600  837.04    0.15144   \n",
      "881             142.57    2025-01-17     1737147600  837.04    0.13197   \n",
      "882             142.57    2025-01-17     1737147600  837.04    0.11460   \n",
      "883             142.57    2025-01-17     1737147600  837.04    0.10174   \n",
      "884             142.57    2025-01-17     1737147600  837.04    0.08937   \n",
      "\n",
      "     [C_GAMMA]  ...  [P_LAST]  [P_DELTA]  [P_GAMMA] [P_VEGA] [P_THETA]  \\\n",
      "0      0.00000  ...      0.00   -0.00084    0.00003  0.00060  -0.00391   \n",
      "1      0.00000  ...      0.00   -0.00015    0.00008  0.00016  -0.00408   \n",
      "2      0.00000  ...      0.01   -0.00117    0.00017  0.00072  -0.00824   \n",
      "3      0.00000  ...      0.01   -0.00130    0.00021  0.00104  -0.00770   \n",
      "4      0.00000  ...      0.01   -0.00156    0.00021  0.00111  -0.00779   \n",
      "..         ...  ...       ...        ...        ...      ...       ...   \n",
      "880    0.00377  ...    112.20   -0.84677    0.00586  0.33052  -0.00385   \n",
      "881    0.00346  ...    122.00   -0.83590    0.00539  0.34098  -0.00525   \n",
      "882    0.00315  ...    132.24   -0.82094    0.00501  0.36094  -0.00527   \n",
      "883    0.00283  ...    149.28   -0.80540    0.00467  0.37976  -0.00637   \n",
      "884    0.00258  ...    162.20   -0.79113    0.00435  0.39584  -0.00707   \n",
      "\n",
      "     [P_RHO]     [P_IV]  [P_VOLUME]  [STRIKE_DISTANCE]  [STRIKE_DISTANCE_PCT]  \n",
      "0    0.00000   1.986150                           72.6                  0.509  \n",
      "1   -0.00017   1.803720                           67.6                  0.474  \n",
      "2    0.00000   1.733340    0.000000               62.6                  0.439  \n",
      "3    0.00000   1.561090    0.000000               57.6                  0.404  \n",
      "4    0.00000   1.404710    0.000000               52.6                  0.369  \n",
      "..       ...        ...         ...                ...                    ...  \n",
      "880 -0.77540   0.426330    0.000000              127.4                  0.894  \n",
      "881 -0.81541   0.447970    0.000000              137.4                  0.964  \n",
      "882 -0.88159   0.472650    0.000000              147.4                  1.034  \n",
      "883 -0.94498   0.496860    0.000000              157.4                  1.104  \n",
      "884 -1.00162   0.520380    0.000000              167.4                  1.174  \n",
      "\n",
      "[885 rows x 33 columns]\n"
     ]
    }
   ],
   "source": [
    "dayGroups = df.groupby('[QUOTE_DATE]')\n",
    "print(dayGroups.groups.keys())\n",
    "print(dayGroups.get_group('2022-10-03'))"
   ]
  },
  {
   "cell_type": "code",
   "execution_count": null,
   "metadata": {},
   "outputs": [],
   "source": []
  },
  {
   "attachments": {},
   "cell_type": "markdown",
   "metadata": {},
   "source": []
  }
 ],
 "metadata": {
  "kernelspec": {
   "display_name": "Python 3",
   "language": "python",
   "name": "python3"
  },
  "language_info": {
   "codemirror_mode": {
    "name": "ipython",
    "version": 3
   },
   "file_extension": ".py",
   "mimetype": "text/x-python",
   "name": "python",
   "nbconvert_exporter": "python",
   "pygments_lexer": "ipython3",
   "version": "3.8.6rc1"
  },
  "orig_nbformat": 4
 },
 "nbformat": 4,
 "nbformat_minor": 2
}
